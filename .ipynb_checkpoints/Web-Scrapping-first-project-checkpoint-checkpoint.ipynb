{
 "cells": [
  {
   "cell_type": "code",
   "execution_count": 3,
   "id": "46c8bb31",
   "metadata": {},
   "outputs": [],
   "source": [
    "from bs4 import BeautifulSoup"
   ]
  },
  {
   "cell_type": "code",
   "execution_count": 13,
   "id": "c5c52c8f",
   "metadata": {},
   "outputs": [],
   "source": [
    "import requests\n",
    "from csv import writer"
   ]
  },
  {
   "cell_type": "code",
   "execution_count": 14,
   "id": "503a085a",
   "metadata": {},
   "outputs": [],
   "source": [
    "url = \"https://www.pararius.com/apartments/amsterdam?ac=1\""
   ]
  },
  {
   "cell_type": "code",
   "execution_count": 15,
   "id": "6c775660",
   "metadata": {},
   "outputs": [],
   "source": [
    "page = requests.get(url)"
   ]
  },
  {
   "cell_type": "code",
   "execution_count": 16,
   "id": "9b181aae",
   "metadata": {},
   "outputs": [
    {
     "name": "stdout",
     "output_type": "stream",
     "text": [
      "<Response [200]>\n"
     ]
    }
   ],
   "source": [
    "print(page)"
   ]
  },
  {
   "cell_type": "code",
   "execution_count": 17,
   "id": "c30a9f63",
   "metadata": {},
   "outputs": [],
   "source": [
    "soup = BeautifulSoup(page.content,'html.parser')"
   ]
  },
  {
   "cell_type": "code",
   "execution_count": 18,
   "id": "c3299ad3",
   "metadata": {},
   "outputs": [],
   "source": [
    "lists = soup.find_all('section',class_='listing-search-item')"
   ]
  },
  {
   "cell_type": "code",
   "execution_count": 20,
   "id": "78ed60d8",
   "metadata": {},
   "outputs": [],
   "source": [
    "#with open('housing.csv', 'w', encoding='utf8', newline='') as f:\n",
    "#    theWriter = writer(f)\n",
    "#    header = ['Title','Location','Price','Area']\n",
    "#    theWriter.writerow(header)\n",
    "#    for listt in lists:\n",
    "#        title = listt.find('a',class_ = 'listing-search-item__link--title').text.replace('\\n','')\n",
    "#        location = listt.find('div',class_ = 'listing-search-item__location').text.replace('\\n','')\n",
    "#        price = listt.find('span',class_ = 'listing-search-item__price').text.replace('\\n','')\n",
    "#        area = listt.find('span',class_ = 'illustrated-features__description').text.replace('\\n','')\n",
    "#        info = [title,location,price,area]\n",
    "#        theWriter.writerow(info)"
   ]
  },
  {
   "cell_type": "code",
   "execution_count": null,
   "id": "c82bf905",
   "metadata": {},
   "outputs": [],
   "source": []
  }
 ],
 "metadata": {
  "kernelspec": {
   "display_name": "Python 3",
   "language": "python",
   "name": "python3"
  },
  "language_info": {
   "codemirror_mode": {
    "name": "ipython",
    "version": 3
   },
   "file_extension": ".py",
   "mimetype": "text/x-python",
   "name": "python",
   "nbconvert_exporter": "python",
   "pygments_lexer": "ipython3",
   "version": "3.8.8"
  }
 },
 "nbformat": 4,
 "nbformat_minor": 5
}
