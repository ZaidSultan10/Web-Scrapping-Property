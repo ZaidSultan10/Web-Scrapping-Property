{
 "cells": [
  {
   "cell_type": "code",
   "execution_count": 3,
   "id": "46c8bb31",
   "metadata": {},
   "outputs": [],
   "source": [
    "from bs4 import BeautifulSoup"
   ]
  },
  {
   "cell_type": "code",
   "execution_count": 4,
   "id": "c5c52c8f",
   "metadata": {},
   "outputs": [],
   "source": [
    "import requests"
   ]
  },
  {
   "cell_type": "code",
   "execution_count": 5,
   "id": "503a085a",
   "metadata": {},
   "outputs": [],
   "source": [
    "url = \"https://www.pararius.com/apartments/amsterdam?ac=1\""
   ]
  },
  {
   "cell_type": "code",
   "execution_count": 6,
   "id": "6c775660",
   "metadata": {},
   "outputs": [],
   "source": [
    "page = requests.get(url)"
   ]
  },
  {
   "cell_type": "code",
   "execution_count": 7,
   "id": "e6311a4d",
   "metadata": {},
   "outputs": [
    {
     "name": "stdout",
     "output_type": "stream",
     "text": [
      "<Response [200]>\n"
     ]
    }
   ],
   "source": [
    "print(page)"
   ]
  },
  {
   "cell_type": "code",
   "execution_count": 8,
   "id": "23080183",
   "metadata": {},
   "outputs": [],
   "source": [
    "soup = BeautifulSoup(page.content,'html.parser')"
   ]
  },
  {
   "cell_type": "code",
   "execution_count": 10,
   "id": "ed7e499b",
   "metadata": {},
   "outputs": [],
   "source": [
    "lists = soup.find_all('section',class_='listing-search-item')"
   ]
  },
  {
   "cell_type": "code",
   "execution_count": null,
   "id": "57ca544e",
   "metadata": {},
   "outputs": [],
   "source": []
  }
 ],
 "metadata": {
  "kernelspec": {
   "display_name": "Python 3",
   "language": "python",
   "name": "python3"
  },
  "language_info": {
   "codemirror_mode": {
    "name": "ipython",
    "version": 3
   },
   "file_extension": ".py",
   "mimetype": "text/x-python",
   "name": "python",
   "nbconvert_exporter": "python",
   "pygments_lexer": "ipython3",
   "version": "3.8.8"
  }
 },
 "nbformat": 4,
 "nbformat_minor": 5
}
